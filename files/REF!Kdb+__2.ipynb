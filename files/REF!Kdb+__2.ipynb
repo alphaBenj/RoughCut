{
 "cells": [
  {
   "cell_type": "code",
   "execution_count": 1,
   "metadata": {},
   "outputs": [
    {
     "ename": "SyntaxError",
     "evalue": "invalid syntax (<ipython-input-1-f4ea8a2203e6>, line 1)",
     "output_type": "error",
     "traceback": [
      "\u001b[0;36m  File \u001b[0;32m\"<ipython-input-1-f4ea8a2203e6>\"\u001b[0;36m, line \u001b[0;32m1\u001b[0m\n\u001b[0;31m    q)N:1000\u001b[0m\n\u001b[0m     ^\u001b[0m\n\u001b[0;31mSyntaxError\u001b[0m\u001b[0;31m:\u001b[0m invalid syntax\n"
     ]
    }
   ],
   "source": [
    "q)N:1000\n",
    "    \n",
    "q)item:`apple`banana`orange`pear;\n",
    "q)city:`beijing`chicago`london`paris;\n",
    "q)tab:([]time:asc n?0D0;n?item;amount:n?100;n?city);"
   ]
  },
  {
   "cell_type": "code",
   "execution_count": null,
   "metadata": {},
   "outputs": [],
   "source": [
    "q)select from tab where amount<>11\n",
    "q)select sum amount by time time.hh, item, city   from tab\n",
    "q)select sum amount by time time.hh, city, item   from tab"
   ]
  },
  {
   "cell_type": "code",
   "execution_count": null,
   "metadata": {},
   "outputs": [],
   "source": []
  },
  {
   "cell_type": "code",
   "execution_count": null,
   "metadata": {},
   "outputs": [],
   "source": [
    "/ calls.q\n",
    "/ Generate some random computer statistics (CPU usage only)\n",
    "/ You can modify n (number of unique computers), timerange (how long the data is for)\n",
    "/ freq (how often a computer publishes a statistic) \n",
    "/ and calls (the number of logged calls)\n",
    "n:1000; timerange:5D; freq:0D00:01; calls:3000\n",
    "depts:`finance`packing`logistics`management`hoopjumping`trading`telesales\n",
    "startcpu:(til n)!25+n?20 \n",
    "fcn:n*fc:`long$timerange%freq\n",
    "\n",
    "computer:([]\n",
    "    time:(-0D00:00:10 + fcn?0D00:00:20)+fcn#(.z.p - timerange)+freq*til fc; \n",
    "    id:raze fc#'key startcpu\n",
    "    )\n",
    "computer:update `gid from `time xasc update cpu:{\n",
    "    100&3|startcpu[first x]+sums(count x)?-2 -1 -1 0 0 1 1 2\n",
    "    }[id] by id from computer\n",
    "\n",
    "/ Generate some random logged calls\n",
    "calls:([] \n",
    "    time:(.z.p - timerange)+asc calls?timerange; \n",
    "    id:calls?key startcpu; \n",
    "    severity:calls?1 2 3\n",
    "    )\n",
    "\n",
    "/ Create a lookup table of computer information\n",
    "computerlookup:([id:key startcpu] dept:n?depts; os:n?`win7`win8`osx`vista)"
   ]
  },
  {
   "cell_type": "code",
   "execution_count": null,
   "metadata": {},
   "outputs": [],
   "source": []
  },
  {
   "cell_type": "code",
   "execution_count": null,
   "metadata": {},
   "outputs": [],
   "source": [
    "    "
   ]
  },
  {
   "cell_type": "code",
   "execution_count": 1,
   "metadata": {},
   "outputs": [
    {
     "ename": "SyntaxError",
     "evalue": "invalid syntax (<ipython-input-1-3edea4329b5d>, line 1)",
     "output_type": "error",
     "traceback": [
      "\u001b[0;36m  File \u001b[0;32m\"<ipython-input-1-3edea4329b5d>\"\u001b[0;36m, line \u001b[0;32m1\u001b[0m\n\u001b[0;31m    q)tables[]!count each value each tables[]\u001b[0m\n\u001b[0m     ^\u001b[0m\n\u001b[0;31mSyntaxError\u001b[0m\u001b[0;31m:\u001b[0m invalid syntax\n"
     ]
    }
   ],
   "source": [
    "q)tables[]!count each value each tables[]\n",
    "calls         | 3000\n",
    "computer      | 7200000\n",
    "computerlookup| 1000\n",
    "q)tables[]!count  each tables[]\n",
    "calls         | 1\n",
    "computer      | 1\n",
    "computerlookup| 1\n",
    "q)tables[]!count each value each tables[]\n",
    "calls         | 3000\n",
    "computer      | 7200000\n",
    "computerlookup| 1000\n",
    "q)"
   ]
  },
  {
   "cell_type": "code",
   "execution_count": null,
   "metadata": {},
   "outputs": [],
   "source": [
    "select mxc:max cpu, mnc:min cpu, avc:avg cpu by id from computer\n",
    "id| mxc mnc avc\n",
    "--| ----------------\n",
    "0 | 63  3   22.92236\n",
    "1 | 42  3   4.679444\n",
    "2 | 37  3   4.239167\n",
    "3 | 100 3   41.52431\n",
    "4 | 100 3   79.00819\n",
    "5 | 56  3   6.349028\n",
    "6 | 96  3   30.41361\n",
    "7 | 100 3   22.91722\n",
    "8 | 38  3   5.708611\n",
    "9 | 34  3   4.087083\n",
    "10| 100 22  96.525\n",
    "11| 100 3   34.71819\n",
    "12| 86  3   23.56208\n",
    "13| 41  3   4.525556\n",
    "14| 98  3   42.19194\n",
    "15| 69  3   17.41194\n",
    "16| 100 3   57.12375\n",
    "17| 100 38  88.52472\n",
    "18| 100 3   72.96694\n",
    "19| 62  3   21.31347"
   ]
  },
  {
   "cell_type": "code",
   "execution_count": null,
   "metadata": {},
   "outputs": [],
   "source": [
    "q)select mxc:max cpu,mnc:min cpu,avc:avg cpu by id,time.date from computer\n",
    "id date      | mxc mnc avc\n",
    "-------------| ----------------\n",
    "0  2018.04.09| 42  3   20.59083\n",
    "0  2018.04.10| 19  3   4.035417\n",
    "0  2018.04.11| 58  3   22.84733\n",
    "0  2018.04.12| 63  8   35.81042\n",
    "0  2018.04.13| 49  9   29.78194\n",
    "0  2018.04.14| 42  17  29.8954\n",
    "1  2018.04.09| 42  3   10.53539\n",
    "1  2018.04.10| 3   3   3\n",
    "1  2018.04.11| 9   3   3.133241\n",
    "1  2018.04.12| 20  3   4.979167\n",
    "1  2018.04.13| 3   3   3\n",
    "1  2018.04.14| 3   3   3\n",
    "2  2018.04.09| 37  3   9.026644\n",
    "2  2018.04.10| 16  3   4.169444\n",
    "2  2018.04.11| 3   3   3\n",
    "2  2018.04.12| 3   3   3\n",
    "2  2018.04.13| 3   3   3\n",
    "2  2018.04.14| 3   3   3\n",
    "3  2018.04.09| 40  3   9.43547\n",
    "3  2018.04.10| 82  9   42.3829"
   ]
  },
  {
   "cell_type": "code",
   "execution_count": null,
   "metadata": {},
   "outputs": [],
   "source": [
    "q)timeofday:{`0earlymorn`1midmorn`2lunch`3afternoon`4evening 00:00 07:00 12:00 13:30 17:00 bin x}\n",
    "    \n",
    "q)select mxc:max cpu, mnc:min cpu, avc:avg cpu by id,time.date,tod:timeofday[time.minute] from computer                                                                               \n",
    "id date       tod       | mxc mnc avc     \n",
    "------------------------| ----------------\n",
    "0  2014.05.09 2lunch    | 42  25  33.29231\n",
    "0  2014.05.09 3afternoon| 38  17  27.37619\n",
    "0  2014.05.09 4evening  | 33  6   20.64762\n",
    "0  2014.05.10 0earlymorn| 34  7   17.22619\n",
    "0  2014.05.10 1midmorn  | 19  3   9.386667\n",
    "0  2014.05.10 2lunch    | 8   3   3.933333\n",
    "0  2014.05.10 3afternoon| 4   3   3.009524\n",
    ".."
   ]
  },
  {
   "cell_type": "code",
   "execution_count": null,
   "metadata": {},
   "outputs": [],
   "source": [
    "select avg cpu by tod:timeofday[time.minute] from computer "
   ]
  },
  {
   "cell_type": "code",
   "execution_count": null,
   "metadata": {},
   "outputs": [],
   "source": [
    "select callcount:count i by severity,dept from calls lj computerlookup  "
   ]
  },
  {
   "cell_type": "code",
   "execution_count": null,
   "metadata": {},
   "outputs": [],
   "source": []
  },
  {
   "cell_type": "code",
   "execution_count": 1,
   "metadata": {},
   "outputs": [
    {
     "ename": "SyntaxError",
     "evalue": "invalid syntax (<ipython-input-1-de649fca21b3>, line 3)",
     "output_type": "error",
     "traceback": [
      "\u001b[0;36m  File \u001b[0;32m\"<ipython-input-1-de649fca21b3>\"\u001b[0;36m, line \u001b[0;32m3\u001b[0m\n\u001b[0;31m    q)d1:-\u001b[0m\n\u001b[0m     ^\u001b[0m\n\u001b[0;31mSyntaxError\u001b[0m\u001b[0;31m:\u001b[0m invalid syntax\n"
     ]
    }
   ],
   "source": [
    "# http://code.kx.com/q/tutorials/q-by-examples/\n",
    "????\n",
    "q)d1:-\n",
    "q)(d1).\\:30 4\n",
    "26"
   ]
  },
  {
   "cell_type": "code",
   "execution_count": null,
   "metadata": {},
   "outputs": [],
   "source": [
    "# Structural transforms\n",
    "raze/[N:0 3_/:2 6#key 12] \n",
    "      "
   ]
  },
  {
   "cell_type": "code",
   "execution_count": null,
   "metadata": {},
   "outputs": [],
   "source": [
    "A:5?1.;A          \n",
    "??? with seed. "
   ]
  },
  {
   "cell_type": "code",
   "execution_count": null,
   "metadata": {},
   "outputs": [],
   "source": [
    "q)avg C~/:1_10000{-3?3}\\()\n",
    "0.1675\n",
    "0.1664\n",
    "q)0.1675\n",
    "q)avg C~/:1_10000{-3?3}\\()\n",
    "0.1676\n",
    "0.1687\n",
    "q)0.1676\n",
    "q)avg C~/:1_10000{-3?3}\\()\n",
    "0.1696\n",
    "q)0.1709\n",
    "0.1709\n",
    "q)avg C~/:1_10000{-3?3}\\()\n",
    "0.1689\n",
    "0.1633\n",
    "q)0.1689"
   ]
  },
  {
   "cell_type": "code",
   "execution_count": null,
   "metadata": {},
   "outputs": [],
   "source": []
  },
  {
   "cell_type": "code",
   "execution_count": null,
   "metadata": {},
   "outputs": [],
   "source": []
  },
  {
   "cell_type": "code",
   "execution_count": null,
   "metadata": {},
   "outputs": [],
   "source": [
    "show x:1h$20?2"
   ]
  },
  {
   "cell_type": "code",
   "execution_count": 2,
   "metadata": {},
   "outputs": [
    {
     "ename": "SyntaxError",
     "evalue": "invalid syntax (<ipython-input-2-2db71605b921>, line 1)",
     "output_type": "error",
     "traceback": [
      "\u001b[0;36m  File \u001b[0;32m\"<ipython-input-2-2db71605b921>\"\u001b[0;36m, line \u001b[0;32m1\u001b[0m\n\u001b[0;31m    (x;(&)prior x)\u001b[0m\n\u001b[0m      ^\u001b[0m\n\u001b[0;31mSyntaxError\u001b[0m\u001b[0;31m:\u001b[0m invalid syntax\n"
     ]
    }
   ],
   "source": [
    "(x;(&)prior x)"
   ]
  },
  {
   "cell_type": "code",
   "execution_count": null,
   "metadata": {},
   "outputs": [],
   "source": [
    "q)(x;(>)prior x)\n",
    "11010101010010101100b\n",
    "10010101010010101000b\n",
    "q)(x;(<)prior x)\n",
    "11010101010010101100b\n",
    "00101010101001010010b"
   ]
  },
  {
   "cell_type": "code",
   "execution_count": null,
   "metadata": {},
   "outputs": [],
   "source": [
    "q)\\ls *.q\n",
    "\"buildsmartmeterdb.q\"\n",
    "\"smartmeterdemo.q\"\n",
    "\"smartmeterfunctions.q\"\n",
    "\"tutorial.q\"\n",
    "q)\\pwd\n",
    "\"/Users/ab6/Documents/BMCap/Quizzle/cookbook-master/tuto"
   ]
  },
  {
   "cell_type": "code",
   "execution_count": null,
   "metadata": {},
   "outputs": [],
   "source": []
  },
  {
   "cell_type": "code",
   "execution_count": null,
   "metadata": {},
   "outputs": [],
   "source": [
    "If you change namespace, then the prompt includes the namespace.\n",
    "\n",
    "    q)\\d .h                     / change to h namespace\n",
    "    q.h)\\d .                    / change back to root namespace\n",
    "    q)\n",
    "    "
   ]
  },
  {
   "cell_type": "code",
   "execution_count": null,
   "metadata": {},
   "outputs": [],
   "source": [
    "x:2 5 4 7 5\n",
    "q)distinct x\n",
    "2 5 4 7\n",
    "q)reverse x\n",
    "5 7 4 5 2\n",
    "q)x within 4 10\n",
    "01111b\n",
    "q)x where x within 4 10\n",
    "5 4 7 5"
   ]
  },
  {
   "cell_type": "code",
   "execution_count": null,
   "metadata": {},
   "outputs": [],
   "source": []
  },
  {
   "cell_type": "code",
   "execution_count": null,
   "metadata": {},
   "outputs": [],
   "source": [
    "q)a:`toronto        / symbol\n",
    "q)b:\"toronto\"       / character string\n",
    "q)count a\n",
    "1\n",
    "q)count b\n",
    "7\n",
    "q)a=\"o\"\n",
    "`type\n",
    "q)b=\"o\"\n",
    "0101001b\n",
    "q)a~b               / a is not the same as b\n",
    "0b\n",
    "q)a~`$b             / `$b converts b to symbol\n",
    "1b"
   ]
  },
  {
   "cell_type": "code",
   "execution_count": null,
   "metadata": {},
   "outputs": [],
   "source": [
    "q)kt:([sym:`ibm`amd] volume:100 200)     / Keyed table\n",
    "q)ku:([sym:`amd`intel] volume:300 400)\n",
    "\n",
    "q)t:([]sym:`ibm`amd; volume:100 200)\n",
    "q)u:([]sym:`amd`intel; volume:300 400)"
   ]
  },
  {
   "cell_type": "code",
   "execution_count": null,
   "metadata": {},
   "outputs": [],
   "source": [
    "q)s)select * from p where color in (red,green)  / SQL query\n",
    "p | name  color weight city\n",
    "--| -------------------------\n",
    "p1| nut   red   12     london\n",
    "p2| bolt  green 17     paris\n",
    "p4| screw red   14     london\n",
    "p6| cog   red   19     london\n",
    "\n",
    "\n",
    "q)select from p where color in `red`green\n",
    "\n",
    "\n",
    "q)select distinct p,s.city from sp\n",
    "s)select distinct sp.p,s.city from sp,s where sp.s=s.s\n",
    "\n",
    "\n",
    "q)select from sp where s.city=p.city\n",
    "s)select sp.s,sp.p,sp.qty from s,p,sp where sp.s=s.s and sp.p=p.p and p.city=s.city"
   ]
  },
  {
   "cell_type": "code",
   "execution_count": null,
   "metadata": {},
   "outputs": [],
   "source": [
    "q)select countqty:count qty,sumqty:sum qty by p from sp\n",
    "p | countqty sumqty\n",
    "--| ---------------\n",
    "p1| 2        600\n",
    "p2| 4        1000\n",
    "p3| 1        400\n",
    "p4| 2        500\n",
    "p5| 2        500\n",
    "p6| 1        100"
   ]
  },
  {
   "cell_type": "code",
   "execution_count": null,
   "metadata": {},
   "outputs": [],
   "source": []
  },
  {
   "cell_type": "code",
   "execution_count": null,
   "metadata": {},
   "outputs": [],
   "source": [
    "q)\\p 5001          \\after standard startup\n",
    "\n",
    "\n",
    "`:[server]:port\n",
    "Copy\n",
    "where the server is optional, and port is a port number. The server need not be given if on the same machine. Examples:\n",
    "\n",
    "\n",
    "`::5001                    / server on same machine as client\n",
    "`:genie:5001               / server on machine genie\n",
    "`:198.168.1.56:5001        / server on given IP address\n",
    "`:www.example.com:5001     / server at www.example.com"
   ]
  },
  {
   "cell_type": "code",
   "execution_count": null,
   "metadata": {},
   "outputs": [],
   "source": []
  },
  {
   "cell_type": "code",
   "execution_count": null,
   "metadata": {},
   "outputs": [],
   "source": []
  },
  {
   "cell_type": "code",
   "execution_count": null,
   "metadata": {},
   "outputs": [],
   "source": [
    "\\l start/buildhdb.q"
   ]
  },
  {
   "cell_type": "code",
   "execution_count": null,
   "metadata": {},
   "outputs": [],
   "source": [
    "select count i by date from trade"
   ]
  },
  {
   "cell_type": "code",
   "execution_count": null,
   "metadata": {},
   "outputs": [],
   "source": [
    "select cnt:count i,sum size,last price, wprice:size wavg price by 5 xbar time.minute from t"
   ]
  },
  {
   "cell_type": "code",
   "execution_count": null,
   "metadata": {},
   "outputs": [],
   "source": []
  },
  {
   "cell_type": "code",
   "execution_count": 1,
   "metadata": {},
   "outputs": [
    {
     "ename": "SyntaxError",
     "evalue": "invalid syntax (<ipython-input-1-92ecb4ea9366>, line 1)",
     "output_type": "error",
     "traceback": [
      "\u001b[0;36m  File \u001b[0;32m\"<ipython-input-1-92ecb4ea9366>\"\u001b[0;36m, line \u001b[0;32m1\u001b[0m\n\u001b[0;31m    t:select time,price from trade where date=last date,sym=`IBM\u001b[0m\n\u001b[0m                ^\u001b[0m\n\u001b[0;31mSyntaxError\u001b[0m\u001b[0;31m:\u001b[0m invalid syntax\n"
     ]
    }
   ],
   "source": [
    "t:select time,price from trade where date=last date,sym=`IBM"
   ]
  }
 ],
 "metadata": {
  "kernelspec": {
   "display_name": "Python 3",
   "language": "python",
   "name": "python3"
  },
  "language_info": {
   "codemirror_mode": {
    "name": "ipython",
    "version": 3
   },
   "file_extension": ".py",
   "mimetype": "text/x-python",
   "name": "python",
   "nbconvert_exporter": "python",
   "pygments_lexer": "ipython3",
   "version": "3.6.5"
  }
 },
 "nbformat": 4,
 "nbformat_minor": 1
}
