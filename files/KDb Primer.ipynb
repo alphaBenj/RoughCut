{
 "cells": [
  {
   "cell_type": "code",
   "execution_count": null,
   "metadata": {},
   "outputs": [],
   "source": [
    "6*7"
   ]
  },
  {
   "cell_type": "code",
   "execution_count": 2,
   "metadata": {},
   "outputs": [
    {
     "data": {
      "text/plain": [
       "2f\n"
      ]
     },
     "execution_count": 2,
     "metadata": {},
     "output_type": "execute_result"
    }
   ],
   "source": [
    "4%2"
   ]
  },
  {
   "cell_type": "code",
   "execution_count": 3,
   "metadata": {},
   "outputs": [
    {
     "data": {
      "text/plain": [
       "2.2\n"
      ]
     },
     "execution_count": 3,
     "metadata": {},
     "output_type": "execute_result"
    }
   ],
   "source": [
    "4.4%2"
   ]
  },
  {
   "cell_type": "code",
   "execution_count": 4,
   "metadata": {},
   "outputs": [
    {
     "data": {
      "text/plain": [
       "3\n"
      ]
     },
     "execution_count": 4,
     "metadata": {},
     "output_type": "execute_result"
    },
    {
     "data": {
      "text/plain": [
       "0 1 2 3 4 5 6 7 8\n"
      ]
     },
     "execution_count": 4,
     "metadata": {},
     "output_type": "execute_result"
    }
   ],
   "source": [
    "count 1.2 2.2 3.3\n",
    "til 9"
   ]
  },
  {
   "cell_type": "code",
   "execution_count": 5,
   "metadata": {},
   "outputs": [
    {
     "data": {
      "text/plain": [
       "150\n"
      ]
     },
     "execution_count": 5,
     "metadata": {},
     "output_type": "execute_result"
    }
   ],
   "source": [
    "0 +/ 10 20 30 40 50"
   ]
  },
  {
   "cell_type": "code",
   "execution_count": 6,
   "metadata": {},
   "outputs": [
    {
     "data": {
      "text/plain": [
       "150\n"
      ]
     },
     "execution_count": 6,
     "metadata": {},
     "output_type": "execute_result"
    }
   ],
   "source": [
    "(+/) 10 20 30 40 50 "
   ]
  },
  {
   "cell_type": "code",
   "execution_count": 7,
   "metadata": {},
   "outputs": [
    {
     "data": {
      "text/plain": [
       "47\n"
      ]
     },
     "execution_count": 7,
     "metadata": {},
     "output_type": "execute_result"
    }
   ],
   "source": [
    "47|7"
   ]
  },
  {
   "cell_type": "code",
   "execution_count": 8,
   "metadata": {},
   "outputs": [
    {
     "data": {
      "text/plain": [
       "0\n"
      ]
     },
     "execution_count": 8,
     "metadata": {},
     "output_type": "execute_result"
    }
   ],
   "source": [
    "(&/) 1 2 3 7 0"
   ]
  },
  {
   "cell_type": "code",
   "execution_count": 9,
   "metadata": {},
   "outputs": [
    {
     "data": {
      "text/plain": [
       "{[x]x*x}\n"
      ]
     },
     "execution_count": 9,
     "metadata": {},
     "output_type": "execute_result"
    }
   ],
   "source": [
    "{[x]x*x}"
   ]
  },
  {
   "cell_type": "code",
   "execution_count": 10,
   "metadata": {},
   "outputs": [
    {
     "data": {
      "text/plain": [
       "343\n"
      ]
     },
     "execution_count": 10,
     "metadata": {},
     "output_type": "execute_result"
    }
   ],
   "source": [
    "{[x]x*x*x}7"
   ]
  },
  {
   "cell_type": "code",
   "execution_count": 11,
   "metadata": {},
   "outputs": [],
   "source": [
    "N:1000\n",
    "item:`apple`banana`orange`pear;\n",
    "city:`beijing`chicago`london`paris;\n",
    "tab:([]time:asc N?0D0;N?item;amount:N?100;N?city);"
   ]
  },
  {
   "cell_type": "code",
   "execution_count": 12,
   "metadata": {},
   "outputs": [
    {
     "data": {
      "text/plain": [
       "time                 item   amount city   \n",
       "------------------------------------------\n",
       "0D00:05:23.343367874 banana 29     beijing\n",
       "0D00:07:52.584763169 orange 28     beijing\n",
       "0D00:09:47.789066880 banana 0      london \n",
       "0D00:10:14.752469211 apple  65     chicago\n",
       "0D00:10:41.654556244 orange 8      london \n",
       "0D00:13:37.024576663 pear   11     chicago\n",
       "0D00:17:16.016850918 pear   57     london \n",
       "0D00:18:09.877069741 apple  73     paris  \n",
       "0D00:18:51.621663272 pear   39     london \n",
       "0D00:19:25.456885099 apple  28     chicago\n",
       "0D00:19:30.004516839 banana 39     beijing\n",
       "0D00:21:18.803423792 orange 28     paris  \n",
       "0D00:21:26.105476319 apple  11     chicago\n",
       "0D00:21:53.678149133 apple  74     london \n",
       "0D00:24:29.338841736 orange 54     london \n",
       "0D00:25:17.908886075 banana 73     chicago\n",
       "0D00:32:06.682911068 pear   77     beijing\n",
       "0D00:35:24.053415656 apple  36     chicago\n",
       "0D00:35:33.929403126 apple  51     london \n",
       "0D00:35:46.644421666 orange 68     beijing\n",
       "..\n"
      ]
     },
     "execution_count": 12,
     "metadata": {},
     "output_type": "execute_result"
    }
   ],
   "source": [
    "tab"
   ]
  },
  {
   "cell_type": "code",
   "execution_count": 13,
   "metadata": {},
   "outputs": [
    {
     "data": {
      "text/plain": [
       "20f\n"
      ]
     },
     "execution_count": 13,
     "metadata": {},
     "output_type": "execute_result"
    }
   ],
   "source": [
    "4 3 2 1 wavg 10 20 30 40"
   ]
  },
  {
   "cell_type": "code",
   "execution_count": 14,
   "metadata": {},
   "outputs": [
    {
     "data": {
      "text/plain": [
       "0 0 0 0 10 10 60\n"
      ]
     },
     "execution_count": 14,
     "metadata": {},
     "output_type": "execute_result"
    }
   ],
   "source": [
    "10 xbar 1 2 2 3 10 11 67"
   ]
  },
  {
   "cell_type": "code",
   "execution_count": 14,
   "metadata": {},
   "outputs": [
    {
     "ename": "\u001b[0;31mhop. OS reports: Connection refused\u001b[0m",
     "evalue": "\u001b[0;31mhop. OS reports: Connection refused\u001b[0m",
     "output_type": "error",
     "traceback": [
      "\u001b[0;31mevaluation error:\n\u001b[0m",
      "\u001b[0;31mhop. OS reports: Connection refused\u001b[0m",
      "\u001b[0;31m\u001b[0m",
      "\u001b[0;31m  [0]  h:hopen `::5813\n         ^\n\u001b[0m"
     ]
    }
   ],
   "source": [
    "h:hopen `::5813"
   ]
  },
  {
   "cell_type": "code",
   "execution_count": 15,
   "metadata": {},
   "outputs": [],
   "source": [
    "/ calls.q\n",
    "/ Generate some random computer statistics (CPU usage only)\n",
    "/ You can modify n (number of unique computers), timerange (how long the data is for)\n",
    "/ freq (how often a computer publishes a statistic) \n",
    "/ and calls (the number of logged calls)\n",
    "n:1000; timerange:5D; freq:0D00:01; calls:3000\n",
    "depts:`finance`packing`logistics`management`hoopjumping`trading`telesales\n",
    "startcpu:(til n)!25+n?20 \n",
    "fcn:n*fc:`long$timerange%freq\n",
    "\n",
    "computer:([]\n",
    "    time:(-0D00:00:10 + fcn?0D00:00:20)+fcn#(.z.p - timerange)+freq*til fc; \n",
    "    id:raze fc#'key startcpu\n",
    "    )\n",
    "computer:update `gid from `time xasc update cpu:{\n",
    "    100&3|startcpu[first x]+sums(count x)?-2 -1 -1 0 0 1 1 2\n",
    "    }[id] by id from computer\n",
    "\n",
    "/ Generate some random logged calls\n",
    "calls:([] \n",
    "    time:(.z.p - timerange)+asc calls?timerange; \n",
    "    id:calls?key startcpu; \n",
    "    severity:calls?1 2 3\n",
    "    )\n",
    "\n",
    "/ Create a lookup table of computer information\n",
    "computerlookup:([id:key startcpu] dept:n?depts; os:n?`win7`win8`osx`vista)"
   ]
  },
  {
   "cell_type": "code",
   "execution_count": 16,
   "metadata": {},
   "outputs": [
    {
     "data": {
      "text/plain": [
       "calls         | 3000\n",
       "computer      | 7200000\n",
       "computerlookup| 1000\n",
       "tab           | 1000\n"
      ]
     },
     "execution_count": 16,
     "metadata": {},
     "output_type": "execute_result"
    }
   ],
   "source": [
    "q)tables[]!count each value each tables[]"
   ]
  },
  {
   "cell_type": "code",
   "execution_count": 17,
   "metadata": {},
   "outputs": [
    {
     "data": {
      "text/plain": [
       "calls         | 1\n",
       "computer      | 1\n",
       "computerlookup| 1\n",
       "tab           | 1\n"
      ]
     },
     "execution_count": 17,
     "metadata": {},
     "output_type": "execute_result"
    }
   ],
   "source": [
    "q)tables[]!count  each tables[]"
   ]
  },
  {
   "cell_type": "code",
   "execution_count": null,
   "metadata": {},
   "outputs": [],
   "source": []
  }
 ],
 "metadata": {
  "kernelspec": {
   "display_name": "Q 3.5",
   "language": "q",
   "name": "qpk"
  },
  "language_info": {
   "file_extension": ".q",
   "mimetype": "text/x-q",
   "name": "q",
   "version": "3.6.0"
  }
 },
 "nbformat": 4,
 "nbformat_minor": 2
}
